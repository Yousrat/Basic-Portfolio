{
  "cells": [
    {
      "cell_type": "markdown",
      "metadata": {
        "id": "view-in-github",
        "colab_type": "text"
      },
      "source": [
        "<a href=\"https://colab.research.google.com/github/Yousrat/Basic-Portfolio/blob/master/first_project.ipynb\" target=\"_parent\"><img src=\"https://colab.research.google.com/assets/colab-badge.svg\" alt=\"Open In Colab\"/></a>"
      ]
    },
    {
      "cell_type": "code",
      "execution_count": 56,
      "id": "d5ed5881-2d40-4c23-8108-6adc08449495",
      "metadata": {
        "colab": {
          "base_uri": "https://localhost:8080/"
        },
        "id": "d5ed5881-2d40-4c23-8108-6adc08449495",
        "outputId": "ea90e4c2-60a4-46ef-a9f2-1af534dcd91d"
      },
      "outputs": [
        {
          "output_type": "stream",
          "name": "stdout",
          "text": [
            "the company was established in 1996\n",
            "----------------------------------------------------------------------------------------------------\n",
            "the total turnover for the company this year= 2996.123\n",
            "the total tirnover of the comapny is 2996.123\n",
            "the total turnover for the company this year= <class 'float'>\n",
            "0.15\n",
            "['sedan', 'suv', 'hatchback', 'MUV']\n",
            "['sedan', 'suv', 'hatchback', 'MUV', 'Hybrid car']\n",
            "['sedan', 'suv', 'hatchback', 'MUV', 'Cyber truck']\n",
            "cars_ratings {'sadan': 64, 'muv1': 49, 'suv1': 30, 'muv2': 78, 'suv2': 32, 'muv3': 84, 'suv3': 21}\n",
            "car_name:  sadan\n",
            "sadan is performing well\n",
            "car_name:  muv1\n",
            "muv1 is not performing well\n",
            "car_name:  suv1\n",
            "suv1 is not performing well\n",
            "car_name:  muv2\n",
            "muv2 is performing well\n",
            "car_name:  suv2\n",
            "suv2 is not performing well\n",
            "car_name:  muv3\n",
            "muv3 is performing well\n",
            "car_name:  suv3\n",
            "suv3 is not performing well\n",
            "new car rating for suv1: 30\n"
          ]
        }
      ],
      "source": [
        "print(\"the company was established in\", 1996)\n",
        "print(\"-\" * 100)\n",
        "total_turnover=2996.123\n",
        "print(\"the total turnover for the company this year=\", total_turnover)\n",
        "\n",
        "print(f\"the total tirnover of the comapny is {total_turnover}\")\n",
        "print(\"the total turnover for the company this year=\", type(total_turnover))\n",
        "number_employees=200\n",
        "safety_incidence= 30\n",
        "safety_per_employee = safety_incidence/number_employees\n",
        "print(safety_incidence/number_employees)\n",
        "\n",
        "cars_type = [\"sedan\", \"suv\", \"hatchback\", \"MUV\"]\n",
        "print(cars_type)\n",
        "cars_type.append(\"Hybrid car\")\n",
        "print(cars_type)\n",
        "cars_type[-1]\n",
        "cars_type[0]\n",
        "cars_type[1]\n",
        "cars_type[0:4]\n",
        "cars_type[:-1]\n",
        "cars_type[-5:-1]\n",
        "cars_type[-2]\n",
        "cars_type[4]=\"Cyber truck\"\n",
        "print(cars_type)\n",
        "#dictionary datatype\n",
        "sales_last_month={\"yousra\":[100,60,30], \"Ali\":2, \"Liam\":20, \"Austin\":14}\n",
        "sales_last_month.keys()\n",
        "sales_last_month.values()\n",
        "sales_last_month [\"yousra\"]=sum(sales_last_month [\"yousra\"])\n",
        "sales_last_month\n",
        "#tuple\n",
        "sales_last_month['Hybrid_car'] = (100,200,300)\n",
        "sales_last_month['Hybrid_car']\n",
        "# for loop\n",
        "cars_ratings={\n",
        "    \"sadan\":64,\n",
        "    \"muv1\":49,\n",
        "    \"suv1\":30,\n",
        "    \"muv2\":78,\n",
        "    \"suv2\":32,\n",
        "    \"muv3\":84,\n",
        "    \"suv3\":21\n",
        "\n",
        "}\n",
        "print(\"cars_ratings\",cars_ratings)\n",
        "for car in cars_ratings:\n",
        "  print(\"car_name: \", car)\n",
        "  if cars_ratings [car]<50:\n",
        "    print(f\"{car} is not performing well\")\n",
        "  else:\n",
        "    print(f\"{car} is performing well\")\n",
        "#function that takes a car and a new rating and then updates the rating\n",
        "def update_rating(car, new_rating):\n",
        "  cars_ratings[car]= new_rating\n",
        "  return cars_ratings\n",
        "  update_rating(\"suv1\", 99)\n",
        "\n",
        "#update function"
      ]
    },
    {
      "cell_type": "code",
      "source": [
        "# for loop\n",
        "cars_ratings={\n",
        "    \"sadan\":64,\n",
        "    \"muv1\":49,\n",
        "    \"suv1\":30,\n",
        "    \"muv2\":78,\n",
        "    \"suv2\":32,\n",
        "    \"muv3\":84,\n",
        "    \"suv3\":21\n",
        "\n",
        "}\n",
        "print(\"cars_ratings\",cars_ratings)\n",
        "for car in cars_ratings:\n",
        "  print(\"car_name: \", car)\n",
        "  if cars_ratings [car]<50:\n",
        "    print(f\"{car} is not performing well\")\n",
        "  else:\n",
        "    print(f\"{car} is performing well\")\n",
        "\n",
        "#function that takes a car and a new rating and then updates the rating\n",
        "def update_rating(car, new_rating):\n",
        "  cars_ratings[car]= new_rating\n",
        "  return cars_ratings\n",
        "  update_rating(\"suv1\", 99)\n",
        "#update function to accoutn for errors in entry, not numeric or car doesnt exist or value more tahn 100 or less than 0\n",
        "\n"
      ],
      "metadata": {
        "colab": {
          "base_uri": "https://localhost:8080/"
        },
        "id": "gAjhV6Nlbk9A",
        "outputId": "41fde055-535a-4410-88a7-42cbbe73d147"
      },
      "id": "gAjhV6Nlbk9A",
      "execution_count": 58,
      "outputs": [
        {
          "output_type": "stream",
          "name": "stdout",
          "text": [
            "cars_ratings {'sadan': 64, 'muv1': 49, 'suv1': 30, 'muv2': 78, 'suv2': 32, 'muv3': 84, 'suv3': 21}\n",
            "car_name:  sadan\n",
            "sadan is performing well\n",
            "car_name:  muv1\n",
            "muv1 is not performing well\n",
            "car_name:  suv1\n",
            "suv1 is not performing well\n",
            "car_name:  muv2\n",
            "muv2 is performing well\n",
            "car_name:  suv2\n",
            "suv2 is not performing well\n",
            "car_name:  muv3\n",
            "muv3 is performing well\n",
            "car_name:  suv3\n",
            "suv3 is not performing well\n"
          ]
        }
      ]
    },
    {
      "cell_type": "code",
      "source": [],
      "metadata": {
        "id": "CCj-zLQueqvY"
      },
      "id": "CCj-zLQueqvY",
      "execution_count": null,
      "outputs": []
    },
    {
      "cell_type": "code",
      "source": [
        "cars_ratings={\n",
        "    \"sadan\":64,\n",
        "    \"muv1\":49,\n",
        "    \"suv1\":30,\n",
        "    \"muv2\":78,\n",
        "    \"suv2\":32,\n",
        "    \"muv3\":84,\n",
        "    \"suv3\":21\n",
        "\n",
        "}\n",
        "\n",
        "def update_rating(car, new_rating):\n",
        "    if car not in cars_ratings:\n",
        "        print('Car doesn\\'t exist')\n",
        "        return\n",
        "    if not isinstance(new_rating, (int, float)):\n",
        "        print('New rating is not a number')\n",
        "        return\n",
        "    if new_rating < 0 or new_rating > 100:\n",
        "        print('New rating is not between 0 and 100')\n",
        "        return\n",
        "    cars_ratings[car] = new_rating\n",
        "    return cars_ratings\n"
      ],
      "metadata": {
        "id": "Vf3upqNBcTuf"
      },
      "id": "Vf3upqNBcTuf",
      "execution_count": 60,
      "outputs": []
    },
    {
      "cell_type": "code",
      "source": [
        "# Write a function that takes a car and new rating and updates the rating\n",
        "\n",
        "def update_rating(car,new_rating):\n",
        "  cars_ratings[car] = new_rating\n",
        "  return cars_ratings\n",
        "\n",
        "update_rating('MUV_1', 100)\n",
        "\n",
        "\n",
        "# The car doesn't exist --> Add the car\n",
        "# The user made a typo Sedan_1 they write Sedan1\n",
        "# The rating entered is above 100 or below 0\n",
        "# The value entered is not numeric\n",
        "\n",
        "\n",
        "\n",
        "import difflib\n",
        "\n",
        "\n",
        "def update_rating(car, new_rating):\n",
        "    # First, try to convert new_rating to float\n",
        "    try:\n",
        "        new_rating = float(new_rating)\n",
        "    except ValueError:\n",
        "        print(\"Error: Rating should be a numeric value.\")\n",
        "        return cars_ratings\n",
        "\n",
        "    # Next, check if new_rating is between 0 and 100\n",
        "    if new_rating < 0 or new_rating > 100:\n",
        "        print(\"Error: Rating should be between 0 and 100.\")\n",
        "        return cars_ratings\n",
        "\n",
        "    # Check if car exists in cars_ratings\n",
        "    if car in cars_ratings:\n",
        "        # Update the rating\n",
        "        cars_ratings[car] = new_rating\n",
        "        print(f\"Updated rating for '{car}' to {new_rating}.\")\n",
        "    else:"
      ],
      "metadata": {
        "id": "_rlYgMoAd6Nk"
      },
      "id": "_rlYgMoAd6Nk",
      "execution_count": null,
      "outputs": []
    },
    {
      "cell_type": "code",
      "source": [
        "import matplotlib.pyplot as plt\n",
        "\n"
      ],
      "metadata": {
        "id": "GPhC04esery8"
      },
      "id": "GPhC04esery8",
      "execution_count": null,
      "outputs": []
    },
    {
      "cell_type": "code",
      "source": [
        "cars_ratings={\n",
        "    \"sadan\":64,\n",
        "    \"muv1\":49,\n",
        "    \"suv1\":30,\n",
        "    \"muv2\":78,\n",
        "    \"suv2\":32,\n",
        "    \"muv3\":84,\n",
        "    \"suv3\":21\n",
        "\n",
        "}\n",
        "print(\"cars_ratings\",cars_ratings)\n",
        "for car in cars_ratings:\n",
        "  print(\"car_name: \", car)\n",
        "  if cars_ratings [car]<50:\n",
        "    print(f\"{car} is not performing well\")\n",
        "  else:\n",
        "    print(f\"{car} is performing well\")\n",
        "#function that takes a car and a new rating and then updates the rating\n",
        "def update_rating(car, new_rating):\n",
        "  cars_ratings[car]= new_rating\n",
        "  return cars_ratings\n",
        "  update_rating(\"suv1\", 99)\n",
        "\n",
        ""
      ],
      "metadata": {
        "colab": {
          "base_uri": "https://localhost:8080/"
        },
        "id": "prW1ek99wPbM",
        "outputId": "b218dc63-0600-4544-8c83-9ca73af0a525"
      },
      "id": "prW1ek99wPbM",
      "execution_count": 61,
      "outputs": [
        {
          "output_type": "stream",
          "name": "stdout",
          "text": [
            "cars_ratings {'sadan': 64, 'muv1': 49, 'suv1': 30, 'muv2': 78, 'suv2': 32, 'muv3': 84, 'suv3': 21}\n",
            "car_name:  sadan\n",
            "sadan is performing well\n",
            "car_name:  muv1\n",
            "muv1 is not performing well\n",
            "car_name:  suv1\n",
            "suv1 is not performing well\n",
            "car_name:  muv2\n",
            "muv2 is performing well\n",
            "car_name:  suv2\n",
            "suv2 is not performing well\n",
            "car_name:  muv3\n",
            "muv3 is performing well\n",
            "car_name:  suv3\n",
            "suv3 is not performing well\n"
          ]
        }
      ]
    }
  ],
  "metadata": {
    "kernelspec": {
      "display_name": "Python 3 (ipykernel)",
      "language": "python",
      "name": "python3"
    },
    "language_info": {
      "codemirror_mode": {
        "name": "ipython",
        "version": 3
      },
      "file_extension": ".py",
      "mimetype": "text/x-python",
      "name": "python",
      "nbconvert_exporter": "python",
      "pygments_lexer": "ipython3",
      "version": "3.12.2"
    },
    "colab": {
      "provenance": [],
      "include_colab_link": true
    }
  },
  "nbformat": 4,
  "nbformat_minor": 5
}